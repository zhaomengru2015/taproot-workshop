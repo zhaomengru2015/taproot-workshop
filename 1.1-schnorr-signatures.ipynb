{
 "cells": [
  {
   "cell_type": "code",
   "execution_count": 28,
   "metadata": {
    "collapsed": true,
    "pycharm": {
     "name": "#%%\n"
    }
   },
   "outputs": [
    {
     "name": "stdout",
     "output_type": "stream",
     "text": [
      "y = 13559482138227799626734527953556176018836073146593135805526466394426745362928\n",
      "-y = 102232607099088395796836457055131731834433911519047428233931117613482089308735\n",
      "y is even\n",
      "-y is odd\n",
      "k is  a valid nonce\n",
      "-k is not a valid nonce\n"
     ]
    }
   ],
   "source": [
    "import random\n",
    "import util\n",
    "from test_framework.key import generate_key_pair, generate_bip340_key_pair, ECKey, ECPubKey, jacobi_symbol\n",
    "from test_framework.key import SECP256K1_FIELD_SIZE, SECP256K1_ORDER\n",
    "from test_framework.messages import sha256\n",
    "from test_framework.script import tagged_hash\n",
    "\n",
    "k, R = generate_key_pair()\n",
    "y = R.get_y()\n",
    "minus_y = SECP256K1_FIELD_SIZE - y\n",
    "print(\"y = {}\".format(y))\n",
    "print(\"-y = {}\".format(minus_y))\n",
    "print(\"y is {}\".format(\"odd\" if y % 2 else \"even\"))\n",
    "print(\"-y is {}\".format(\"odd\" if minus_y % 2 else \"even\"))\n",
    "print(\"k is {} a valid nonce\".format(\"\" if y % 2 == 0 else \"not\"))\n",
    "print(\"-k is {} a valid nonce\".format(\"\" if minus_y % 2 == 0 else \"not\"))"
   ]
  },
  {
   "cell_type": "code",
   "execution_count": 3,
   "outputs": [
    {
     "name": "stdout",
     "output_type": "stream",
     "text": [
      "R_x: 53089450365856660873746794545791032443351319662115159088690721692461984342167\n",
      "R_y: 91970744997821119035534967173148238180413515560579319663143539655773497091007\n",
      "minus_R_x: 53089450365856660873746794545791032443351319662115159088690721692461984342167\n",
      "minus_R_y: 23821344239495076388036017835539669672856469105061244376314044352135337580656\n",
      "\n"
     ]
    }
   ],
   "source": [
    "k, R = generate_key_pair()\n",
    "R_x = R.get_x()\n",
    "R_y = R.get_y()\n",
    "print(\"R_x: {}\".format(R_x))\n",
    "print(\"R_y: {}\".format(R_y))\n",
    "minus_k = SECP256K1_ORDER - k.secret\n",
    "minus_k_key, minus_R = generate_key_pair(minus_k)\n",
    "minus_R_x = minus_R.get_x()\n",
    "minus_R_y = minus_R.get_y()\n",
    "print(\"minus_R_x: {}\".format(minus_R_x))\n",
    "print(\"minus_R_y: {}\\n\".format(minus_R_y))\n",
    "assert R_x == minus_R_x\n",
    "assert SECP256K1_FIELD_SIZE - R_y == minus_R_y"
   ],
   "metadata": {
    "collapsed": false,
    "pycharm": {
     "name": "#%%\n"
    }
   }
  },
  {
   "cell_type": "code",
   "execution_count": 29,
   "outputs": [
    {
     "name": "stdout",
     "output_type": "stream",
     "text": [
      "R: 99287886f290d62d2924cdf13e99c60d22c0fb357f94dae723e576f3e3f7ae30\n",
      "s: ddd3cdaa9bedb097b34c34772e4325ae56c88dccc9c95c4018666348ad372a67\n",
      "\n",
      "Signature: 99287886f290d62d2924cdf13e99c60d22c0fb357f94dae723e576f3e3f7ae30ddd3cdaa9bedb097b34c34772e4325ae56c88dccc9c95c4018666348ad372a67\n",
      "\n"
     ]
    }
   ],
   "source": [
    "msg = sha256(b'message')\n",
    "d, P = generate_key_pair()\n",
    "if P.get_y() % 2 != 0:\n",
    "    d.negate()\n",
    "    P.negate()\n",
    "\n",
    "k, R = generate_key_pair()\n",
    "if R.get_y() % 2 != 0:\n",
    "    k.negate()\n",
    "\n",
    "R_x_bytes = R.get_bytes()\n",
    "P_bytes = P.get_bytes()\n",
    "h_bytes = tagged_hash(\"BIP0340/challenge\", R_x_bytes + P_bytes + msg)\n",
    "h = ECKey().set(h_bytes)\n",
    "s = k + h * d\n",
    "print(\"R: {}\".format(R))\n",
    "print(\"s: {}\\n\".format(s.get_bytes().hex()))\n",
    "sig = R_x_bytes + s.get_bytes()\n",
    "print(\"Signature: {}\\n\".format(sig.hex()))\n",
    "assert P.verify_schnorr(sig, msg)"
   ],
   "metadata": {
    "collapsed": false,
    "pycharm": {
     "name": "#%%\n"
    }
   }
  },
  {
   "cell_type": "code",
   "execution_count": 37,
   "outputs": [
    {
     "name": "stdout",
     "output_type": "stream",
     "text": [
      "message = ab530a13e45914982b79f9b7e3fba994cfd1f3fb22f71cea1afbf02b460c6d1d\n",
      "pubkey=bcb8efa5789baa1755d3f599e6db024e7ba3f3808c09bdd95a04624cc1425f3e\n",
      "\n",
      "nonce: 43083883860340328596388228062243319847994337646097710974223116911382313045790\n",
      "nonce point: 365191a89d35ae6d55ffcffcca1d4b65e2565386b5b162ecf4d541ddcffabfa7\n",
      "\n",
      "R: 365191a89d35ae6d55ffcffcca1d4b65e2565386b5b162ecf4d541ddcffabfa7\n",
      "s: fc5cce0b14ac2fe84d2cdf2b98316f82cb890e310a65a057a75f5344406df808\n",
      "\n",
      "Signature: 365191a89d35ae6d55ffcffcca1d4b65e2565386b5b162ecf4d541ddcffabfa7fc5cce0b14ac2fe84d2cdf2b98316f82cb890e310a65a057a75f5344406df808\n",
      "\n"
     ]
    }
   ],
   "source": [
    "msg = sha256(b'message')\n",
    "aux = sha256(b'random auxiliary data')\n",
    "d, P = generate_bip340_key_pair()\n",
    "print(\"message = {}\".format(msg.hex()))\n",
    "print(\"pubkey={}\\n\".format(P.get_bytes().hex()))\n",
    "t = (d.secret ^ int.from_bytes(tagged_hash(\"BIP0340/aux\", aux), 'big')).to_bytes(32, 'big')\n",
    "rand = tagged_hash(\"BIP0340/nonce\", t + P.get_bytes() + msg)\n",
    "k, R = generate_key_pair(rand)\n",
    "if R.get_y() % 2 != 0:\n",
    "    k.negate()\n",
    "print(\"nonce: {}\".format(k))\n",
    "print(\"nonce point: {}\\n\".format(R))\n",
    "R_x_bytes = R.get_bytes()\n",
    "P_bytes = P.get_bytes()\n",
    "h_bytes = tagged_hash(\"BIP0340/challenge\", R_x_bytes + P_bytes + msg)\n",
    "h = ECKey().set(h_bytes)\n",
    "s = k + h * d\n",
    "print(\"R: {}\".format(R))\n",
    "print(\"s: {}\\n\".format(s.get_bytes().hex()))\n",
    "sig = R_x_bytes + s.get_bytes()\n",
    "print(\"Signature: {}\\n\".format(sig.hex()))\n",
    "sig2 = d.sign_schnorr(msg, aux)\n",
    "assert P.verify_schnorr(sig, msg)\n",
    "assert P.verify_schnorr(sig2, msg)"
   ],
   "metadata": {
    "collapsed": false,
    "pycharm": {
     "name": "#%%\n"
    }
   }
  },
  {
   "cell_type": "code",
   "execution_count": null,
   "outputs": [],
   "source": [],
   "metadata": {
    "collapsed": false,
    "pycharm": {
     "name": "#%%\n"
    }
   }
  }
 ],
 "metadata": {
  "kernelspec": {
   "display_name": "Python 3",
   "language": "python",
   "name": "python3"
  },
  "language_info": {
   "codemirror_mode": {
    "name": "ipython",
    "version": 2
   },
   "file_extension": ".py",
   "mimetype": "text/x-python",
   "name": "python",
   "nbconvert_exporter": "python",
   "pygments_lexer": "ipython2",
   "version": "2.7.6"
  }
 },
 "nbformat": 4,
 "nbformat_minor": 0
}