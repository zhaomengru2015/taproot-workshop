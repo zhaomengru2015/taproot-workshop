{
 "cells": [
  {
   "cell_type": "code",
   "execution_count": 2,
   "metadata": {
    "collapsed": true
   },
   "outputs": [
    {
     "name": "stdout",
     "output_type": "stream",
     "text": [
      "TestWrapper is already running!\n"
     ]
    }
   ],
   "source": [
    "import util\n",
    "from test_framework.address import program_to_witness\n",
    "from test_framework.key import generate_key_pair\n",
    "from test_framework.messages import COutPoint, CTransaction, CTxIn, CTxOut, CTxInWitness\n",
    "from test_framework.script import SegwitV0SignatureHash, SIGHASH_ALL, hash160, get_p2pkh_script\n",
    "\n",
    "privkey, pubkey = generate_key_pair()\n",
    "program=hash160(pubkey.get_bytes(bip340=False))\n",
    "version=0x00\n",
    "address=program_to_witness(version,program)\n",
    "test=util.TestWrapper()\n",
    "test.setup()\n",
    "node=test.nodes[0]\n",
    "version=node.getnetworkinfo()['subversion']\n",
    "node.generate(101)\n",
    "balance=node.getbalance()\n",
    "assert balance>1"
   ]
  },
  {
   "cell_type": "code",
   "execution_count": 6,
   "outputs": [
    {
     "name": "stdout",
     "output_type": "stream",
     "text": [
      "2021-11-26T12:03:13.030000Z TestFramework./var/folders/cj/pzq3pqcn6sx9gkvw0pfbpmvh0000gn/T/bitcoin_func_test_p88vu6gr (INFO): Stopping nodes\n",
      "2021-11-26T12:03:13.505000Z TestFramework./var/folders/cj/pzq3pqcn6sx9gkvw0pfbpmvh0000gn/T/bitcoin_func_test_p88vu6gr (INFO): Cleaning up /var/folders/cj/pzq3pqcn6sx9gkvw0pfbpmvh0000gn/T/bitcoin_func_test_p88vu6gr on exit\n",
      "2021-11-26T12:03:13.506000Z TestFramework./var/folders/cj/pzq3pqcn6sx9gkvw0pfbpmvh0000gn/T/bitcoin_func_test_p88vu6gr (INFO): Tests successful\n"
     ]
    }
   ],
   "source": [
    "unspent_txid=node.listunspent(1)[-1][\"txid\"]\n",
    "inputs = [{\"txid\": unspent_txid, \"vout\": 0}]\n",
    "tx_hex=node.createrawtransaction(inputs=inputs,outputs=[{address:1}])\n",
    "res = node.signrawtransactionwithwallet(hexstring=tx_hex)\n",
    "tx_hex = res[\"hex\"]\n",
    "assert res[\"complete\"]\n",
    "assert 'errors' not in res\n",
    "\n",
    "txid = node.sendrawtransaction(hexstring=tx_hex, maxfeerate=0)\n",
    "\n",
    "spending_tx = CTransaction()\n",
    "spending_tx.nVersion = 1\n",
    "spending_tx.nLockTime = 0\n",
    "outpoint = COutPoint(int(txid, 16), 0)\n",
    "spending_tx_in = CTxIn(outpoint)\n",
    "spending_tx.vin = [spending_tx_in]\n",
    "#generate new bitcoin core wallet address\n",
    "dest_addr = node.getnewaddress(address_type=\"bech32\")\n",
    "scriptpubkey = bytes.fromhex(node.getaddressinfo(dest_addr)['scriptPubKey'])\n",
    "amount_sat = int(0.5 * 100_000_000)\n",
    "dest_output = CTxOut(amount_sat, scriptpubkey)\n",
    "spending_tx.vout = [dest_output]\n",
    "# generate the sigwit v0 signature hash for signing\n",
    "sighash = SegwitV0SignatureHash(script=get_p2pkh_script(program),txTo=spending_tx,inIdx=0, hashtype=SIGHASH_ALL, amount=100_000_000)\n",
    "sig = privkey.sign_ecdsa(sighash) + chr(SIGHASH_ALL).encode('latin-1')\n",
    "spending_tx.wit.vtxinwit.append(CTxInWitness([sig,pubkey.get_bytes(bip340=False)]))\n",
    "# serialize signed transaction for broadcast\n",
    "spending_tx_str=spending_tx.serialize().hex()\n",
    "assert node.testmempoolaccept(rawtxs=[spending_tx_str], maxfeerate=0)[0]['allowed']\n",
    "test.shutdown()"
   ],
   "metadata": {
    "collapsed": false,
    "pycharm": {
     "name": "#%%\n"
    }
   }
  },
  {
   "cell_type": "code",
   "execution_count": 9,
   "outputs": [
    {
     "name": "stdout",
     "output_type": "stream",
     "text": [
      "TestWrapper is already running!\n",
      "\n",
      "Client version is /Satoshi:22.99.0(testnode0)/\n",
      "\n",
      "Balance: 50.00000000\n",
      "\n",
      "2021-11-26T12:07:32.671000Z TestFramework./var/folders/cj/pzq3pqcn6sx9gkvw0pfbpmvh0000gn/T/bitcoin_func_test_vmjcym90 (INFO): Stopping nodes\n",
      "2021-11-26T12:07:33.102000Z TestFramework./var/folders/cj/pzq3pqcn6sx9gkvw0pfbpmvh0000gn/T/bitcoin_func_test_vmjcym90 (INFO): Cleaning up /var/folders/cj/pzq3pqcn6sx9gkvw0pfbpmvh0000gn/T/bitcoin_func_test_vmjcym90 on exit\n",
      "2021-11-26T12:07:33.103000Z TestFramework./var/folders/cj/pzq3pqcn6sx9gkvw0pfbpmvh0000gn/T/bitcoin_func_test_vmjcym90 (INFO): Tests successful\n"
     ]
    }
   ],
   "source": [
    "# simple way\n",
    "test = util.TestWrapper()\n",
    "test.setup()\n",
    "node = test.nodes[0]\n",
    "tx=node.generate_and_send_coins(address)\n",
    "spending_tx=test.create_spending_transaction(tx.hash)\n",
    "sighash=SegwitV0SignatureHash(script=get_p2pkh_script(program), txTo=spending_tx,inIdx=0,hashtype=SIGHASH_ALL,amount=100_000_000)\n",
    "sig=privkey.sign_ecdsa(sighash) + chr(SIGHASH_ALL).encode('latin-1')\n",
    "spending_tx.wit.vtxinwit.append(CTxInWitness([sig,pubkey.get_bytes(bip340=False)]))\n",
    "test.shutdown()"
   ],
   "metadata": {
    "collapsed": false,
    "pycharm": {
     "name": "#%%\n"
    }
   }
  },
  {
   "cell_type": "code",
   "execution_count": null,
   "outputs": [],
   "source": [],
   "metadata": {
    "collapsed": false,
    "pycharm": {
     "name": "#%%\n"
    }
   }
  }
 ],
 "metadata": {
  "kernelspec": {
   "display_name": "Python 3",
   "language": "python",
   "name": "python3"
  },
  "language_info": {
   "codemirror_mode": {
    "name": "ipython",
    "version": 2
   },
   "file_extension": ".py",
   "mimetype": "text/x-python",
   "name": "python",
   "nbconvert_exporter": "python",
   "pygments_lexer": "ipython2",
   "version": "2.7.6"
  }
 },
 "nbformat": 4,
 "nbformat_minor": 0
}