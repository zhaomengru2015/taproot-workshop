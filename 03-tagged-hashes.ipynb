{
 "cells": [
  {
   "cell_type": "code",
   "execution_count": 5,
   "metadata": {
    "collapsed": true,
    "pycharm": {
     "name": "#%%\n"
    }
   },
   "outputs": [],
   "source": [
    "from test_framework.script import sha256\n",
    "\n",
    "def tagged_hash(tag,input_data):\n",
    "    preimage = sha256(tag) + sha256(tag) + input_data\n",
    "    return sha256(preimage)\n",
    "h = tagged_hash(b'SampleTagName', b'Input data')\n",
    "assert h.hex() == \"4c55df56134d7f37d3295850659f2e3729128c969b3386ec661feb7dfe29a99c\""
   ]
  },
  {
   "cell_type": "code",
   "execution_count": null,
   "outputs": [],
   "source": [],
   "metadata": {
    "collapsed": false,
    "pycharm": {
     "name": "#%%\n"
    }
   }
  }
 ],
 "metadata": {
  "kernelspec": {
   "display_name": "Python 3",
   "language": "python",
   "name": "python3"
  },
  "language_info": {
   "codemirror_mode": {
    "name": "ipython",
    "version": 2
   },
   "file_extension": ".py",
   "mimetype": "text/x-python",
   "name": "python",
   "nbconvert_exporter": "python",
   "pygments_lexer": "ipython2",
   "version": "2.7.6"
  }
 },
 "nbformat": 4,
 "nbformat_minor": 0
}