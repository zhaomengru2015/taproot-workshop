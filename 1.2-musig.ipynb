{
 "cells": [
  {
   "cell_type": "code",
   "execution_count": 3,
   "metadata": {
    "collapsed": true
   },
   "outputs": [],
   "source": [
    "# public key generation\n",
    "import util\n",
    "from test_framework.key import ECKey, ECPubKey, generate_key_pair, generate_bip340_key_pair, generate_schnorr_nonce\n",
    "from test_framework.messages import sha256\n",
    "from test_framework.musig import aggregate_musig_signatures, aggregate_schnorr_nonces, generate_musig_key, sign_musig\n",
    "from test_framework.script import tagged_hash\n",
    "\n",
    "priv1, pub1=generate_key_pair(sha256(b'key0'))\n",
    "priv2, pub2=generate_key_pair(sha256(b'key1'))\n",
    "priv3, pub3=generate_key_pair(sha256(b'key2'))\n",
    "pubkeys = [pub1,pub2,pub3]\n",
    "c_map, pubkey_agg=generate_musig_key(pubkeys)\n",
    "\n",
    "priv1_c=priv1*c_map.get(pub1)\n",
    "pub1_c=pub1*c_map.get(pub1)\n",
    "priv2_c=priv2*c_map.get(pub2)\n",
    "pub2_c=pub2*c_map.get(pub2)\n",
    "priv3_c=priv3*c_map.get(pub3)\n",
    "pub3_c=pub3*c_map.get(pub3)\n",
    "if pubkey_agg.get_y() %2 !=0 :\n",
    "    priv1_c.negate()\n",
    "    pub1_c.negate()\n",
    "    priv2_c.negate()\n",
    "    pub2_c.negate()\n",
    "    priv3_c.negate()\n",
    "    pub3_c.negate()\n",
    "assert priv1_c.secret == 104717570570407299858230629579807834166658508605015363884161538594382975780625\n",
    "assert priv2_c.secret == 65554880484297966965546994775376394861215085064604177497808278620612854069980\n",
    "assert priv3_c.secret == 106998690642216524894360365246223287721822845133760006050846956016514597569168"
   ]
  },
  {
   "cell_type": "code",
   "execution_count": 10,
   "outputs": [
    {
     "ename": "TypeError",
     "evalue": "object of type 'int' has no len()",
     "output_type": "error",
     "traceback": [
      "\u001B[0;31m---------------------------------------------------------------------------\u001B[0m",
      "\u001B[0;31mTypeError\u001B[0m                                 Traceback (most recent call last)",
      "\u001B[0;32m/var/folders/cj/pzq3pqcn6sx9gkvw0pfbpmvh0000gn/T/ipykernel_38190/1394944179.py\u001B[0m in \u001B[0;36m<module>\u001B[0;34m\u001B[0m\n\u001B[1;32m     43\u001B[0m \u001B[0ms3\u001B[0m\u001B[0;34m=\u001B[0m\u001B[0msign_musig\u001B[0m\u001B[0;34m(\u001B[0m\u001B[0mpriv3_c\u001B[0m\u001B[0;34m,\u001B[0m\u001B[0mk3\u001B[0m\u001B[0;34m,\u001B[0m\u001B[0mR_agg\u001B[0m\u001B[0;34m,\u001B[0m\u001B[0mpubkey_agg\u001B[0m\u001B[0;34m,\u001B[0m\u001B[0mmsg\u001B[0m\u001B[0;34m)\u001B[0m\u001B[0;34m\u001B[0m\u001B[0;34m\u001B[0m\u001B[0m\n\u001B[1;32m     44\u001B[0m \u001B[0msig_agg\u001B[0m \u001B[0;34m=\u001B[0m \u001B[0maggregate_musig_signatures\u001B[0m\u001B[0;34m(\u001B[0m\u001B[0;34m[\u001B[0m\u001B[0ms1\u001B[0m\u001B[0;34m,\u001B[0m\u001B[0ms2\u001B[0m\u001B[0;34m,\u001B[0m\u001B[0ms3\u001B[0m\u001B[0;34m]\u001B[0m\u001B[0;34m,\u001B[0m\u001B[0mR_agg\u001B[0m\u001B[0;34m)\u001B[0m\u001B[0;34m\u001B[0m\u001B[0;34m\u001B[0m\u001B[0m\n\u001B[0;32m---> 45\u001B[0;31m \u001B[0;32massert\u001B[0m \u001B[0mpubkey_agg\u001B[0m\u001B[0;34m.\u001B[0m\u001B[0mverify_schnorr\u001B[0m\u001B[0;34m(\u001B[0m\u001B[0msig_agg\u001B[0m\u001B[0;34m,\u001B[0m\u001B[0;36m1\u001B[0m\u001B[0;34m)\u001B[0m\u001B[0;34m\u001B[0m\u001B[0;34m\u001B[0m\u001B[0m\n\u001B[0m",
      "\u001B[0;32m~/learning/taproot-workshop/test_framework/key.py\u001B[0m in \u001B[0;36mverify_schnorr\u001B[0;34m(self, sig, msg)\u001B[0m\n\u001B[1;32m    377\u001B[0m \u001B[0;34m\u001B[0m\u001B[0m\n\u001B[1;32m    378\u001B[0m     \u001B[0;32mdef\u001B[0m \u001B[0mverify_schnorr\u001B[0m\u001B[0;34m(\u001B[0m\u001B[0mself\u001B[0m\u001B[0;34m,\u001B[0m \u001B[0msig\u001B[0m\u001B[0;34m,\u001B[0m \u001B[0mmsg\u001B[0m\u001B[0;34m)\u001B[0m\u001B[0;34m:\u001B[0m\u001B[0;34m\u001B[0m\u001B[0;34m\u001B[0m\u001B[0m\n\u001B[0;32m--> 379\u001B[0;31m         \u001B[0;32massert\u001B[0m\u001B[0;34m(\u001B[0m\u001B[0mlen\u001B[0m\u001B[0;34m(\u001B[0m\u001B[0mmsg\u001B[0m\u001B[0;34m)\u001B[0m \u001B[0;34m==\u001B[0m \u001B[0;36m32\u001B[0m\u001B[0;34m)\u001B[0m\u001B[0;34m\u001B[0m\u001B[0;34m\u001B[0m\u001B[0m\n\u001B[0m\u001B[1;32m    380\u001B[0m         \u001B[0;32massert\u001B[0m\u001B[0;34m(\u001B[0m\u001B[0mlen\u001B[0m\u001B[0;34m(\u001B[0m\u001B[0msig\u001B[0m\u001B[0;34m)\u001B[0m \u001B[0;34m==\u001B[0m \u001B[0;36m64\u001B[0m\u001B[0;34m)\u001B[0m\u001B[0;34m\u001B[0m\u001B[0;34m\u001B[0m\u001B[0m\n\u001B[1;32m    381\u001B[0m         \u001B[0;32massert\u001B[0m\u001B[0;34m(\u001B[0m\u001B[0mself\u001B[0m\u001B[0;34m.\u001B[0m\u001B[0mvalid\u001B[0m\u001B[0;34m)\u001B[0m\u001B[0;34m\u001B[0m\u001B[0;34m\u001B[0m\u001B[0m\n",
      "\u001B[0;31mTypeError\u001B[0m: object of type 'int' has no len()"
     ]
    }
   ],
   "source": [
    "# generate nonce and nonce point\n",
    "k1=ECKey().set(101)\n",
    "k2=ECKey().set(222)\n",
    "k3=ECKey().set(333)\n",
    "test_k1=ECKey().set(k1.secret)\n",
    "test_k2=ECKey().set(k2.secret)\n",
    "test_k3=ECKey().set(k3.secret)\n",
    "\n",
    "# get nonce point\n",
    "R1=test_k1.get_pubkey()\n",
    "R2=test_k2.get_pubkey()\n",
    "R3=test_k3.get_pubkey()\n",
    "\n",
    "# generate nonce point and commitments and exchange them\n",
    "R1_digest = sha256(R1.get_bytes())\n",
    "R2_digest = sha256(R2.get_bytes())\n",
    "R3_digest = sha256(R3.get_bytes())\n",
    "\n",
    "assert R1_digest.hex() == \"38018cfa00483e751b166e7d982a5bb8264fb3309739c2f432e79791a1c9aaf7\"\n",
    "assert R2_digest.hex() == \"9eb8fac583a9d83d4753c454e4ab4de833b3496d093a6f2df507a6a39424c745\"\n",
    "assert R3_digest.hex() == \"103ea7eeb151bc6bd2c1e54ecaaad303b1c022bb205c5430daac796924a80ed0\"\n",
    "\n",
    "R_agg = R1 + R2 + R3\n",
    "if R_agg.get_y() %2 != 0:\n",
    "    R_agg.negate()\n",
    "    k1.negate()\n",
    "    k2.negate()\n",
    "    k3.negate()\n",
    "\n",
    "test_R_agg, negated= aggregate_schnorr_nonces([R1,R2,R3])\n",
    "if negated:\n",
    "    test_k1.negate()\n",
    "    test_k2.negate()\n",
    "    test_k3.negate()\n",
    "\n",
    "assert R_agg == test_R_agg\n",
    "assert k1 == test_k1\n",
    "assert k2 == test_k2\n",
    "assert k3 == test_k3\n",
    "msg = sha256(b'transaction')\n",
    "s1=sign_musig(priv1_c,k1,R_agg,pubkey_agg,msg)\n",
    "s2=sign_musig(priv2_c,k2,R_agg,pubkey_agg,msg)\n",
    "s3=sign_musig(priv3_c,k3,R_agg,pubkey_agg,msg)\n",
    "sig_agg = aggregate_musig_signatures([s1,s2,s3],R_agg)\n",
    "assert pubkey_agg.verify_schnorr(sig_agg,msg)"
   ],
   "metadata": {
    "collapsed": false,
    "pycharm": {
     "name": "#%%\n"
    }
   }
  }
 ],
 "metadata": {
  "kernelspec": {
   "display_name": "Python 3",
   "language": "python",
   "name": "python3"
  },
  "language_info": {
   "codemirror_mode": {
    "name": "ipython",
    "version": 2
   },
   "file_extension": ".py",
   "mimetype": "text/x-python",
   "name": "python",
   "nbconvert_exporter": "python",
   "pygments_lexer": "ipython2",
   "version": "2.7.6"
  }
 },
 "nbformat": 4,
 "nbformat_minor": 0
}