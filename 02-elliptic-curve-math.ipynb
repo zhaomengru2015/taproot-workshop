{
 "cells": [
  {
   "cell_type": "code",
   "execution_count": 1,
   "metadata": {
    "collapsed": true
   },
   "outputs": [
    {
     "name": "stdout",
     "output_type": "stream",
     "text": [
      "Source directory configured as /Users/mrzhao/learning/bitcoin\n",
      "a = 15258344345770621963748341314927523690412058031958727138946824306090530869975\n",
      "b = 107828194110617853829261662291640544724695141933849677540156555460135203196473\n"
     ]
    }
   ],
   "source": [
    "import random\n",
    "import util\n",
    "from test_framework.key import generate_key_pair, ECKey, ECPubKey, SECP256K1_FIELD_SIZE, SECP256K1_ORDER\n",
    "\n",
    "a = random.randrange(1, SECP256K1_ORDER)\n",
    "b = random.randrange(1, SECP256K1_ORDER)\n",
    "print(\"a = {}\".format(a))\n",
    "print(\"b = {}\".format(b))"
   ]
  },
  {
   "cell_type": "code",
   "execution_count": 3,
   "outputs": [
    {
     "name": "stdout",
     "output_type": "stream",
     "text": [
      "a_key private key 15258344345770621963748341314927523690412058031958727138946824306090530869975\n",
      "b_key private key 107828194110617853829261662291640544724695141933849677540156555460135203196473\n",
      "ab_key private key 7294449219072280369439018597880160562269635686733500296498216624707572572111\n"
     ]
    }
   ],
   "source": [
    "ab = (a + b) % SECP256K1_ORDER\n",
    "a_key = ECKey().set(a)\n",
    "b_key = ECKey().set(b)\n",
    "ab_key = a_key + b_key\n",
    "print(\"a_key private key {}\".format(a_key))\n",
    "print(\"b_key private key {}\".format(b_key))\n",
    "print(\"ab_key private key {}\".format(ab_key))\n",
    "assert ab_key.secret == ab"
   ],
   "metadata": {
    "collapsed": false,
    "pycharm": {
     "name": "#%%\n"
    }
   }
  },
  {
   "cell_type": "code",
   "execution_count": 4,
   "outputs": [
    {
     "name": "stdout",
     "output_type": "stream",
     "text": [
      "a = 40474826605952670783147128433096289851186036296347794765622201395041894775684\n",
      "b = 64628604972231539611162537082094307154033335311912377615282956658461580661797\n",
      "a_key private key 40474826605952670783147128433096289851186036296347794765622201395041894775684\n",
      "b_key private key 64628604972231539611162537082094307154033335311912377615282956658461580661797\n",
      "ab_key private key 53704204681270953008378028147190748400958804937573502423912243383183902526765\n"
     ]
    }
   ],
   "source": [
    "a = random.randrange(1, SECP256K1_ORDER)\n",
    "b = random.randrange(1, SECP256K1_ORDER)\n",
    "print(\"a = {}\".format(a))\n",
    "print(\"b = {}\".format(b))\n",
    "ab = (a * b) % SECP256K1_ORDER\n",
    "a_key = ECKey().set(a)\n",
    "b_key = ECKey().set(b)\n",
    "ab_key = a_key * b_key\n",
    "print(\"a_key private key {}\".format(a_key))\n",
    "print(\"b_key private key {}\".format(b_key))\n",
    "print(\"ab_key private key {}\".format(ab_key))\n",
    "assert ab_key.secret == ab"
   ],
   "metadata": {
    "collapsed": false,
    "pycharm": {
     "name": "#%%\n"
    }
   }
  },
  {
   "cell_type": "code",
   "execution_count": 7,
   "outputs": [
    {
     "name": "stdout",
     "output_type": "stream",
     "text": [
      "Left: 62084068490582786913315500267778843911378063242010093544699274342001606396450\n",
      "Right: 62084068490582786913315500267778843911378063242010093544699274342001606396450\n"
     ]
    }
   ],
   "source": [
    "a = random.randrange(SECP256K1_ORDER / 2, SECP256K1_ORDER)\n",
    "a_key = ECKey().set(a)\n",
    "b = random.randrange(SECP256K1_ORDER / 2, SECP256K1_ORDER)\n",
    "b_key = ECKey().set(b)\n",
    "left_a_plus_b = (a + b) % SECP256K1_ORDER\n",
    "right_b_plus_a = b_key + a_key\n",
    "print(\"Left: {}\".format(left_a_plus_b))\n",
    "print(\"Right: {}\".format(right_b_plus_a))\n",
    "assert left_a_plus_b == right_b_plus_a.secret"
   ],
   "metadata": {
    "collapsed": false,
    "pycharm": {
     "name": "#%%\n"
    }
   }
  },
  {
   "cell_type": "code",
   "execution_count": 8,
   "outputs": [
    {
     "name": "stdout",
     "output_type": "stream",
     "text": [
      "Left: 56129963349512263346844440041557054849371908752787597672758404000207303852391\n",
      "Right: 56129963349512263346844440041557054849371908752787597672758404000207303852391\n"
     ]
    }
   ],
   "source": [
    "a = random.randrange(1, SECP256K1_ORDER)\n",
    "a_key = ECKey().set(a)\n",
    "b = random.randrange(1, SECP256K1_ORDER)\n",
    "b_key = ECKey().set(b)\n",
    "c = random.randrange(1, SECP256K1_ORDER)\n",
    "c_key = ECKey().set(c)\n",
    "a_minus_b = (a - b) % SECP256K1_ORDER\n",
    "left = a_minus_b * c % SECP256K1_ORDER\n",
    "right = a_key * c_key - b_key * c_key\n",
    "\n",
    "print(\"Left: {}\".format(left))\n",
    "print(\"Right: {}\".format(right))\n",
    "assert left == right.secret"
   ],
   "metadata": {
    "collapsed": false,
    "pycharm": {
     "name": "#%%\n"
    }
   }
  },
  {
   "cell_type": "code",
   "execution_count": 9,
   "outputs": [
    {
     "name": "stdout",
     "output_type": "stream",
     "text": [
      "Point A is eb1c41ffb6a4214098247873b6e997f08122de8a37bed0b138dd366e5fda1cfb\n",
      "Point B is 3d7876f0675b8ef6ba63256fded87d622b5ef77c749eedb4fee3b0d49cad99fa\n",
      "Point (A+B) is 3a82610a2291ed319c419c0269f42da859284c6c9727a38392f2d4f8ae234500\n"
     ]
    }
   ],
   "source": [
    "a = ECKey().generate()\n",
    "A = a.get_pubkey()\n",
    "b, B = generate_key_pair()\n",
    "print(\"Point A is {}\".format(A))\n",
    "print(\"Point B is {}\".format(B))\n",
    "AB = A + B\n",
    "print(\"Point (A+B) is {}\".format(AB))"
   ],
   "metadata": {
    "collapsed": false,
    "pycharm": {
     "name": "#%%\n"
    }
   }
  },
  {
   "cell_type": "code",
   "execution_count": 10,
   "outputs": [
    {
     "name": "stdout",
     "output_type": "stream",
     "text": [
      "Left: 6773cb5a6b47908f39552eeb7fb012bee8e5b35b3ee7b1f2a6e5e7e7a000dd11\n",
      "Right: 6773cb5a6b47908f39552eeb7fb012bee8e5b35b3ee7b1f2a6e5e7e7a000dd11\n"
     ]
    }
   ],
   "source": [
    "a = ECKey().generate()\n",
    "b = ECKey().generate()\n",
    "c, C = generate_key_pair()\n",
    "left = (a - b) * C\n",
    "right = a * C - b * C\n",
    "print(\"Left: {}\".format(left))\n",
    "print(\"Right: {}\".format(right))\n",
    "assert left == right"
   ],
   "metadata": {
    "collapsed": false,
    "pycharm": {
     "name": "#%%\n"
    }
   }
  },
  {
   "cell_type": "code",
   "execution_count": null,
   "outputs": [],
   "source": [],
   "metadata": {
    "collapsed": false,
    "pycharm": {
     "name": "#%%\n"
    }
   }
  }
 ],
 "metadata": {
  "kernelspec": {
   "display_name": "Python 3",
   "language": "python",
   "name": "python3"
  },
  "language_info": {
   "codemirror_mode": {
    "name": "ipython",
    "version": 2
   },
   "file_extension": ".py",
   "mimetype": "text/x-python",
   "name": "python",
   "nbconvert_exporter": "python",
   "pygments_lexer": "ipython2",
   "version": "2.7.6"
  }
 },
 "nbformat": 4,
 "nbformat_minor": 0
}