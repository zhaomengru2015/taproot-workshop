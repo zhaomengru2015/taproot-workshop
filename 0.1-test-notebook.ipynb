{
 "cells": [
  {
   "cell_type": "code",
   "execution_count": 3,
   "outputs": [
    {
     "name": "stdout",
     "output_type": "stream",
     "text": [
      "Source directory configured as /Users/mrzhao/learning/bitcoin\n",
      "2021-11-04T08:53:45.021000Z TestFramework./var/folders/cj/pzq3pqcn6sx9gkvw0pfbpmvh0000gn/T/bitcoin_func_test_mbobk8jd (INFO): Initializing test directory /var/folders/cj/pzq3pqcn6sx9gkvw0pfbpmvh0000gn/T/bitcoin_func_test_mbobk8jd\n"
     ]
    }
   ],
   "source": [
    "from util import TestWrapper\n",
    "test=TestWrapper()\n",
    "test.setup()"
   ],
   "metadata": {
    "collapsed": false,
    "pycharm": {
     "name": "#%%\n"
    }
   }
  },
  {
   "cell_type": "code",
   "execution_count": 7,
   "outputs": [
    {
     "name": "stdout",
     "output_type": "stream",
     "text": [
      "Client version is /Satoshi:22.99.0(testnode0)/\n"
     ]
    }
   ],
   "source": [
    "version=test.nodes[0].getnetworkinfo()['subversion']\n",
    "print(\"Client version is {}\".format(version))\n",
    "assert \"Satoshi\" in version"
   ],
   "metadata": {
    "collapsed": false,
    "pycharm": {
     "name": "#%%\n"
    }
   }
  },
  {
   "cell_type": "code",
   "execution_count": 11,
   "outputs": [],
   "source": [
    "block_chain_info = test.nodes[0].getblockchaininfo()\n",
    "assert 'taproot' in block_chain_info['softforks']\n",
    "assert block_chain_info['softforks']['taproot']['active']"
   ],
   "metadata": {
    "collapsed": false,
    "pycharm": {
     "name": "#%%\n"
    }
   }
  },
  {
   "cell_type": "code",
   "execution_count": 12,
   "outputs": [
    {
     "name": "stdout",
     "output_type": "stream",
     "text": [
      "2021-11-04T09:02:32.912000Z TestFramework./var/folders/cj/pzq3pqcn6sx9gkvw0pfbpmvh0000gn/T/bitcoin_func_test_mbobk8jd (INFO): Stopping nodes\n",
      "2021-11-04T09:02:33.343000Z TestFramework./var/folders/cj/pzq3pqcn6sx9gkvw0pfbpmvh0000gn/T/bitcoin_func_test_mbobk8jd (INFO): Cleaning up /var/folders/cj/pzq3pqcn6sx9gkvw0pfbpmvh0000gn/T/bitcoin_func_test_mbobk8jd on exit\n",
      "2021-11-04T09:02:33.344000Z TestFramework./var/folders/cj/pzq3pqcn6sx9gkvw0pfbpmvh0000gn/T/bitcoin_func_test_mbobk8jd (INFO): Tests successful\n"
     ]
    }
   ],
   "source": [
    "test.shutdown()"
   ],
   "metadata": {
    "collapsed": false,
    "pycharm": {
     "name": "#%%\n"
    }
   }
  },
  {
   "cell_type": "code",
   "execution_count": null,
   "outputs": [],
   "source": [],
   "metadata": {
    "collapsed": false,
    "pycharm": {
     "name": "#%%\n"
    }
   }
  }
 ],
 "metadata": {
  "kernelspec": {
   "display_name": "Python 3",
   "language": "python",
   "name": "python3"
  },
  "language_info": {
   "codemirror_mode": {
    "name": "ipython",
    "version": 2
   },
   "file_extension": ".py",
   "mimetype": "text/x-python",
   "name": "python",
   "nbconvert_exporter": "python",
   "pygments_lexer": "ipython2",
   "version": "2.7.6"
  }
 },
 "nbformat": 4,
 "nbformat_minor": 0
}